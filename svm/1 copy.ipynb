{
 "cells": [
  {
   "cell_type": "code",
   "execution_count": 1,
   "metadata": {},
   "outputs": [],
   "source": [
    "from sklearn import svm, datasets\n",
    "import sklearn.model_selection as model_selection\n",
    "from sklearn.metrics import accuracy_score\n",
    "from sklearn.metrics import f1_score"
   ]
  },
  {
   "cell_type": "code",
   "execution_count": 2,
   "metadata": {},
   "outputs": [],
   "source": [
    "import pandas as pd"
   ]
  },
  {
   "cell_type": "code",
   "execution_count": 3,
   "metadata": {},
   "outputs": [],
   "source": [
    "data = pd.read_csv('../train.csv')"
   ]
  },
  {
   "cell_type": "code",
   "execution_count": 4,
   "metadata": {},
   "outputs": [
    {
     "name": "stdout",
     "output_type": "stream",
     "text": [
      "(4800, 26) (4800,)\n"
     ]
    }
   ],
   "source": [
    "x = data.iloc[:, :-1]\n",
    "y = data.iloc[:, -1]\n",
    "# print(x.head())\n",
    "# print(y.head())\n",
    "print(x.shape, y.shape)"
   ]
  },
  {
   "cell_type": "code",
   "execution_count": 5,
   "metadata": {},
   "outputs": [],
   "source": [
    "x_train, x_test, y_train, y_test = model_selection.train_test_split(x, y, test_size=0.2, random_state=51)\n"
   ]
  },
  {
   "cell_type": "code",
   "execution_count": 8,
   "metadata": {},
   "outputs": [
    {
     "ename": "TypeError",
     "evalue": "GridSearchCV.__init__() got an unexpected keyword argument 'score_func'",
     "output_type": "error",
     "traceback": [
      "\u001b[1;31m---------------------------------------------------------------------------\u001b[0m",
      "\u001b[1;31mTypeError\u001b[0m                                 Traceback (most recent call last)",
      "\u001b[1;32mc:\\Users\\SQREAM\\Desktop\\projects\\kaggle\\svm\\1 copy.ipynb Cell 6\u001b[0m line \u001b[0;36m1\n\u001b[0;32m      <a href='vscode-notebook-cell:/c%3A/Users/SQREAM/Desktop/projects/kaggle/svm/1%20copy.ipynb#W5sZmlsZQ%3D%3D?line=6'>7</a>\u001b[0m model_to_set \u001b[39m=\u001b[39m OneVsRestClassifier(SVC(kernel\u001b[39m=\u001b[39m\u001b[39m\"\u001b[39m\u001b[39mpoly\u001b[39m\u001b[39m\"\u001b[39m))\n\u001b[0;32m      <a href='vscode-notebook-cell:/c%3A/Users/SQREAM/Desktop/projects/kaggle/svm/1%20copy.ipynb#W5sZmlsZQ%3D%3D?line=8'>9</a>\u001b[0m parameters \u001b[39m=\u001b[39m {\n\u001b[0;32m     <a href='vscode-notebook-cell:/c%3A/Users/SQREAM/Desktop/projects/kaggle/svm/1%20copy.ipynb#W5sZmlsZQ%3D%3D?line=9'>10</a>\u001b[0m     \u001b[39m\"\u001b[39m\u001b[39mestimator__C\u001b[39m\u001b[39m\"\u001b[39m: [\u001b[39m1\u001b[39m,\u001b[39m2\u001b[39m,\u001b[39m4\u001b[39m,\u001b[39m8\u001b[39m],\n\u001b[0;32m     <a href='vscode-notebook-cell:/c%3A/Users/SQREAM/Desktop/projects/kaggle/svm/1%20copy.ipynb#W5sZmlsZQ%3D%3D?line=10'>11</a>\u001b[0m     \u001b[39m\"\u001b[39m\u001b[39mestimator__kernel\u001b[39m\u001b[39m\"\u001b[39m: [\u001b[39m\"\u001b[39m\u001b[39mpoly\u001b[39m\u001b[39m\"\u001b[39m,\u001b[39m\"\u001b[39m\u001b[39mrbf\u001b[39m\u001b[39m\"\u001b[39m],\n\u001b[0;32m     <a href='vscode-notebook-cell:/c%3A/Users/SQREAM/Desktop/projects/kaggle/svm/1%20copy.ipynb#W5sZmlsZQ%3D%3D?line=11'>12</a>\u001b[0m     \u001b[39m\"\u001b[39m\u001b[39mestimator__degree\u001b[39m\u001b[39m\"\u001b[39m:[\u001b[39m1\u001b[39m, \u001b[39m2\u001b[39m, \u001b[39m3\u001b[39m, \u001b[39m4\u001b[39m],\n\u001b[0;32m     <a href='vscode-notebook-cell:/c%3A/Users/SQREAM/Desktop/projects/kaggle/svm/1%20copy.ipynb#W5sZmlsZQ%3D%3D?line=12'>13</a>\u001b[0m }\n\u001b[1;32m---> <a href='vscode-notebook-cell:/c%3A/Users/SQREAM/Desktop/projects/kaggle/svm/1%20copy.ipynb#W5sZmlsZQ%3D%3D?line=14'>15</a>\u001b[0m model_tunning \u001b[39m=\u001b[39m GridSearchCV(model_to_set, param_grid\u001b[39m=\u001b[39;49mparameters,\n\u001b[0;32m     <a href='vscode-notebook-cell:/c%3A/Users/SQREAM/Desktop/projects/kaggle/svm/1%20copy.ipynb#W5sZmlsZQ%3D%3D?line=15'>16</a>\u001b[0m                              score_func\u001b[39m=\u001b[39;49mf1_score)\n\u001b[0;32m     <a href='vscode-notebook-cell:/c%3A/Users/SQREAM/Desktop/projects/kaggle/svm/1%20copy.ipynb#W5sZmlsZQ%3D%3D?line=17'>18</a>\u001b[0m model_tunning\u001b[39m.\u001b[39mfit(iris\u001b[39m.\u001b[39mdata, iris\u001b[39m.\u001b[39mtarget)\n\u001b[0;32m     <a href='vscode-notebook-cell:/c%3A/Users/SQREAM/Desktop/projects/kaggle/svm/1%20copy.ipynb#W5sZmlsZQ%3D%3D?line=19'>20</a>\u001b[0m \u001b[39mprint\u001b[39m(model_tunning\u001b[39m.\u001b[39mbest_score_)\n",
      "\u001b[1;31mTypeError\u001b[0m: GridSearchCV.__init__() got an unexpected keyword argument 'score_func'"
     ]
    }
   ],
   "source": [
    "from sklearn.multiclass import OneVsRestClassifier\n",
    "from sklearn.svm import SVC\n",
    "from sklearn.model_selection import GridSearchCV\n",
    "from sklearn.metrics import f1_score\n",
    "\n",
    "\n",
    "model_to_set = OneVsRestClassifier(SVC(kernel=\"poly\"))\n",
    "\n",
    "parameters = {\n",
    "    \"estimator__C\": [1,2,4,8],\n",
    "    \"estimator__kernel\": [\"poly\",\"rbf\"],\n",
    "    \"estimator__degree\":[1, 2, 3, 4],\n",
    "}\n",
    "\n",
    "model_tunning = GridSearchCV(model_to_set, param_grid=parameters,\n",
    "                             score_func=f1_score)\n",
    "\n",
    "model_tunning.fit(iris.data, iris.target)\n",
    "\n",
    "print(model_tunning.best_score_)\n",
    "print(model_tunning.best_params_)"
   ]
  },
  {
   "cell_type": "code",
   "execution_count": 7,
   "metadata": {},
   "outputs": [],
   "source": [
    "poly_pred = poly.predict(x_test)\n",
    "rbf_pred = rbf.predict(x_test)"
   ]
  },
  {
   "cell_type": "code",
   "execution_count": 8,
   "metadata": {},
   "outputs": [
    {
     "name": "stdout",
     "output_type": "stream",
     "text": [
      "Accuracy (Polynomial Kernel):  83.12\n",
      "F1 (Polynomial Kernel):  83.10\n"
     ]
    }
   ],
   "source": [
    "poly_accuracy = accuracy_score(y_test, poly_pred)\n",
    "poly_f1 = f1_score(y_test, poly_pred, average='weighted')\n",
    "print('Accuracy (Polynomial Kernel): ', \"%.2f\" % (poly_accuracy*100))\n",
    "print('F1 (Polynomial Kernel): ', \"%.2f\" % (poly_f1*100))"
   ]
  },
  {
   "cell_type": "code",
   "execution_count": 9,
   "metadata": {},
   "outputs": [
    {
     "name": "stdout",
     "output_type": "stream",
     "text": [
      "Accuracy (RBF Kernel):  20.21\n",
      "F1 (RBF Kernel):  6.79\n"
     ]
    }
   ],
   "source": [
    "rbf_accuracy = accuracy_score(y_test, rbf_pred)\n",
    "rbf_f1 = f1_score(y_test, rbf_pred, average='weighted')\n",
    "print('Accuracy (RBF Kernel): ', \"%.2f\" % (rbf_accuracy*100))\n",
    "print('F1 (RBF Kernel): ', \"%.2f\" % (rbf_f1*100))"
   ]
  },
  {
   "cell_type": "code",
   "execution_count": null,
   "metadata": {},
   "outputs": [],
   "source": []
  }
 ],
 "metadata": {
  "kernelspec": {
   "display_name": "deeplearning",
   "language": "python",
   "name": "python3"
  },
  "language_info": {
   "codemirror_mode": {
    "name": "ipython",
    "version": 3
   },
   "file_extension": ".py",
   "mimetype": "text/x-python",
   "name": "python",
   "nbconvert_exporter": "python",
   "pygments_lexer": "ipython3",
   "version": "3.11.4"
  }
 },
 "nbformat": 4,
 "nbformat_minor": 2
}
