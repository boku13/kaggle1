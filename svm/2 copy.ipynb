{
 "cells": [
  {
   "cell_type": "code",
   "execution_count": 1,
   "metadata": {},
   "outputs": [],
   "source": [
    "from sklearn import svm, datasets\n",
    "import sklearn.model_selection as model_selection\n",
    "from sklearn.metrics import accuracy_score\n",
    "from sklearn.metrics import f1_score\n",
    "import pandas as pd"
   ]
  },
  {
   "cell_type": "code",
   "execution_count": 2,
   "metadata": {},
   "outputs": [],
   "source": [
    "data = pd.read_csv('../train.csv')"
   ]
  },
  {
   "cell_type": "code",
   "execution_count": 3,
   "metadata": {},
   "outputs": [
    {
     "name": "stdout",
     "output_type": "stream",
     "text": [
      "(4800, 26) (4800,)\n"
     ]
    }
   ],
   "source": [
    "x = data.iloc[:, :-1]\n",
    "y = data.iloc[:, -1]\n",
    "# print(x.head())\n",
    "# print(y.head())\n",
    "print(x.shape, y.shape)"
   ]
  },
  {
   "cell_type": "code",
   "execution_count": 4,
   "metadata": {},
   "outputs": [],
   "source": [
    "x_train, x_test, y_train, y_test = model_selection.train_test_split(x, y, test_size=0.2, random_state=51)"
   ]
  },
  {
   "cell_type": "code",
   "execution_count": 5,
   "metadata": {},
   "outputs": [],
   "source": [
    "parameters = {\n",
    "    'C': [0.1, 1, 10],\n",
    "    'kernel': ['linear', 'poly', 'rbf', 'sigmoid'],\n",
    "    'degree': [2, 3, 4, 5],\n",
    "    'gamma': ['scale', 'auto', 0.1, 1],\n",
    "    'coef0': [0, 1, 2],\n",
    "    'shrinking': [True, False]\n",
    "}\n"
   ]
  },
  {
   "cell_type": "code",
   "execution_count": 11,
   "metadata": {},
   "outputs": [],
   "source": [
    "\n",
    "from sklearn.multiclass import OneVsRestClassifier\n",
    "from sklearn.svm import SVC\n",
    "from sklearn.model_selection import GridSearchCV\n",
    "from sklearn.metrics import f1_score"
   ]
  },
  {
   "cell_type": "code",
   "execution_count": 12,
   "metadata": {},
   "outputs": [
    {
     "name": "stdout",
     "output_type": "stream",
     "text": [
      "0.9030638199256898\n",
      "{'estimator__C': 8, 'estimator__degree': 1, 'estimator__kernel': 'rbf'}\n"
     ]
    }
   ],
   "source": [
    "model_to_set = OneVsRestClassifier(SVC(kernel=\"poly\"))\n",
    "\n",
    "parameters = {\n",
    "    \"estimator__C\": [1,2,4,8],\n",
    "    \"estimator__kernel\": [\"poly\",\"rbf\"],\n",
    "    \"estimator__degree\":[1, 2, 3, 4],\n",
    "}\n",
    "\n",
    "model_tunning = GridSearchCV(model_to_set, param_grid=parameters,\n",
    "                             scoring='f1_weighted')\n",
    "\n",
    "model_tunning.fit(x, y)\n",
    "\n",
    "print(model_tunning.best_score_)\n",
    "print(model_tunning.best_params_)\n"
   ]
  },
  {
   "cell_type": "code",
   "execution_count": 15,
   "metadata": {},
   "outputs": [
    {
     "name": "stdout",
     "output_type": "stream",
     "text": [
      "Test Accuracy Score: 0.99\n"
     ]
    }
   ],
   "source": [
    "# Evaluate the best model on the test data\n",
    "best_model = model_tunning.best_estimator_\n",
    "test_predictions = best_model.predict(x_test)\n",
    "test_accuracy = accuracy_score(y_test, test_predictions)\n",
    "print(\"Test Accuracy Score: {:.2f}\".format(test_accuracy))"
   ]
  },
  {
   "cell_type": "code",
   "execution_count": 16,
   "metadata": {},
   "outputs": [],
   "source": [
    "test = pd.read_csv('../test.csv')\n",
    "test_features = test.iloc[:, 1:]\n",
    "rbf_pred = best_model.predict(test_features)"
   ]
  },
  {
   "cell_type": "code",
   "execution_count": null,
   "metadata": {},
   "outputs": [],
   "source": [
    "rbf_labels = pd.DataFrame({'Predicted_Labels': rbf_pred})\n",
    "\n",
    "rbf_labels['ID'] = test['ID']  \n",
    "\n",
    "\n",
    "rbf_labels.to_csv('grid_search_on_the_whole_rbf.csv', index=False)"
   ]
  },
  {
   "cell_type": "code",
   "execution_count": 7,
   "metadata": {},
   "outputs": [
    {
     "name": "stdout",
     "output_type": "stream",
     "text": [
      "Accuracy (RBF Kernel):  90.00\n",
      "F1 (RBF Kernel):  89.99\n"
     ]
    }
   ],
   "source": [
    "rbf_accuracy = accuracy_score(y_test, rbf_pred)\n",
    "rbf_f1 = f1_score(y_test, rbf_pred, average='weighted')\n",
    "print('Accuracy (RBF Kernel): ', \"%.2f\" % (rbf_accuracy*100))\n",
    "print('F1 (RBF Kernel): ', \"%.2f\" % (rbf_f1*100))"
   ]
  },
  {
   "cell_type": "code",
   "execution_count": 9,
   "metadata": {},
   "outputs": [],
   "source": [
    "test = pd.read_csv('../test.csv')\n",
    "test_features = test.iloc[:, 1:]\n",
    "rbf_pred = rbf.predict(test_features)\n"
   ]
  },
  {
   "cell_type": "code",
   "execution_count": 10,
   "metadata": {},
   "outputs": [],
   "source": [
    "rbf_labels = pd.DataFrame({'Predicted_Labels': rbf_pred})\n",
    "\n",
    "rbf_labels['ID'] = test['ID']  \n",
    "\n",
    "\n",
    "rbf_labels.to_csv('grid_search_rbf.csv', index=False)\n"
   ]
  },
  {
   "cell_type": "code",
   "execution_count": null,
   "metadata": {},
   "outputs": [],
   "source": []
  }
 ],
 "metadata": {
  "kernelspec": {
   "display_name": "deeplearning",
   "language": "python",
   "name": "python3"
  },
  "language_info": {
   "codemirror_mode": {
    "name": "ipython",
    "version": 3
   },
   "file_extension": ".py",
   "mimetype": "text/x-python",
   "name": "python",
   "nbconvert_exporter": "python",
   "pygments_lexer": "ipython3",
   "version": "3.11.4"
  }
 },
 "nbformat": 4,
 "nbformat_minor": 2
}
